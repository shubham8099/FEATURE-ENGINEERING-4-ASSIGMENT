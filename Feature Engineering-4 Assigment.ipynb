{
 "cells": [
  {
   "cell_type": "code",
   "execution_count": 1,
   "id": "7b3493cc-1d26-425a-a1ac-4a276f3d2830",
   "metadata": {},
   "outputs": [],
   "source": [
    "# jai maa Saraswati :"
   ]
  },
  {
   "cell_type": "markdown",
   "id": "5dc47cdd-3235-42a9-84e8-6a9d03036dd3",
   "metadata": {},
   "source": [
    "Q1. What is data encoding? How is it useful in data science"
   ]
  },
  {
   "cell_type": "markdown",
   "id": "1374ca92-8dfa-40ee-a13e-7f2251fd62fb",
   "metadata": {},
   "source": [
    "# Data Encoding :\n",
    "\n",
    "* Data encoding is a process of converting data from one format or operation into another , typically to make it more suitable for processing , analysis , or storage . In Data scinece encoding is particularyly impotant when dealing with categorical data , textual data or when preparing data for machine learning algorithums.\n",
    "\n",
    "# How Data Encoding is Useful :\n",
    "\n",
    "* Label Encoding : This technique coverts categorical values into numerical values . For Example => if we have a column with the values \"Red\" ,\"Green\",\"Blue\", label encoding would convert these to 0 , 1 ,2 respectively . This is often used with algorithum that work better with numerical Data .\n",
    "\n",
    "* One-Hot Encoding : This Techniques creates binary columns for each Category . For Example => instance , \"Red\" , \"green\" , \"Blue\" would become three seprate columns , each with a 0 or 1 to indicates the presence of the colour . This is useful for algorithum that cannot handle categorical data directly .\n",
    "\n",
    "# Why Encoding is Useful :\n",
    "\n",
    "* Algorithum Compatibility :- Many machine learning algorithums require numerical input . Encoding catrgorical and textual data into numerical formats makes it possible to use these algorithums effectively .\n",
    "\n",
    "* Improve Performance :- Proper encoding can enhance model performance by providing a more accurate representation of the data.For Example :- One-Hot Encoding helps prevent the model from assuming an ordinal relationship between categorical variables.\n",
    "\n",
    "* Data Integrity :- Encoding ensures that all data is in a consistent format,reducing the risk or erros during analysis and model Training.\n",
    "\n",
    "* Feature Engineering : Encoding helps create features that can reveal important patterns and Relationship withing the data."
   ]
  },
  {
   "cell_type": "markdown",
   "id": "a656af2c-7ae6-46d7-bd8b-729dc65f0f5c",
   "metadata": {},
   "source": [
    "Q2. What is nominal encoding? Provide an example of how you would use it in a real-world scenario"
   ]
  },
  {
   "cell_type": "markdown",
   "id": "ec4495dd-c89a-4128-91ef-22a428145c12",
   "metadata": {},
   "source": [
    "# Nominal Encoding :\n",
    "\n",
    "* Nominal encoding is a method used to convert categorical data into numerical format where the numbers do not imply any ordinal relationship among the categories unlike ordinal encoding , which assumes a natural order among categories(Ex:-Low,med,high),nominal encoding treats each category as distinct and unoredered .\n",
    "\n",
    "# How Nominal Encoding Works ^_^ \n",
    "\n",
    "* Assigning Unique Integers:- Each category in the categorical variable is assigned a unique integer value. For instance, if you have a feature like \"Color\" with categories \"Red,\" \"Green,\" and \"Blue,\" you might assign them the values 0, 1, and 2, respectively\n",
    "\n",
    "* Creating Dummy Variables (One-Hot Encoding): Another approach is to create binary columns for each category. Each column represents the presence (1) or absence (0) of that category. For the \"Color\" example, you would create three columns: \"Color_Red,\" \"Color_Green,\" and \"Color_Blue,\" where each row has a 1 in the column corresponding to the color and 0 in the other columns.\n",
    "\n",
    "# Example in Real-World Scenario :\n",
    "\n",
    "* Let's consider a real-world scenario where we have a dataset containing information about various types of fruits ,and we need to prepare this data for machine learning model . our Dataset includes a Fatures called \"Fruit_Types\" with categories such as \"Apple\",\"Banana\" and \"Orange\" .\n",
    "\n",
    "# Original Data \n",
    "\n",
    "| Fruit_Type |\n",
    "|------------|\n",
    "| Apple      |\n",
    "| Banana     |\n",
    "| Orange     |\n",
    "| Apple      |\n",
    "| Orange     |\n",
    "\n",
    "\n",
    "# One-Hot Encoded Data :\n",
    "\n",
    "| Fruit_Type_Apple | Fruit_Type_Banana | Fruit_Type_Orange |\n",
    "|------------------|--------------------|-------------------|\n",
    "| 1                | 0                  | 0                 |\n",
    "| 0                | 1                  | 0                 |\n",
    "| 0                | 0                  | 1                 |\n",
    "| 1                | 0                  | 0                 |\n",
    "| 0                | 0                  | 1                 |\n"
   ]
  },
  {
   "cell_type": "markdown",
   "id": "73b06bfb-0d32-4916-8c3d-67e74ecce0ad",
   "metadata": {},
   "source": [
    "Q3. In what situations is nominal encoding preferred over one-hot encoding? Provide a practical example."
   ]
  },
  {
   "cell_type": "markdown",
   "id": "ef980fd3-7302-4392-af86-e9d4b3d1629a",
   "metadata": {},
   "source": [
    "# NOMINAL ENCODING V/S ONE-HOT ENCODING\n",
    "\n",
    "* Nominal encoding,also known as label encoding,can be preferred over one-hot encoding in certain situations due to its simplicity and efficiency.\n",
    "\n",
    "# Example :- Customer Statisfaction Level \n",
    "\n",
    "* imagine we are working with a dataset that includes a features representing cutomer statisfaction levels categorized as \"Low\",\"Medium\" and \"High\" . we want to encode this categorical features for use in machine learning model .\n",
    "\n",
    "# Label Encoding(Nominal Encoding):\n",
    "* Low --> 0\n",
    "* Medium --> 1\n",
    "* High --> 2\n",
    "\n",
    "# One-Hot Encoding :\n",
    "* Low --> [1,0,0]\n",
    "* Medium --> [0,1,0]\n",
    "* High --> [0,0,2]\n",
    "\n",
    "# When Prefer Nominal Encoding :\n",
    "* Tree-Based Models :\n",
    "* High Cardinality :\n",
    "* When Features are Nominal without Implicit Ordering :"
   ]
  },
  {
   "cell_type": "markdown",
   "id": "98952041-0188-4a15-adf8-8914a3f92bc8",
   "metadata": {},
   "source": [
    "Q4. Suppose you have a dataset containing categorical data with 5 unique values. Which encoding\n",
    "technique would you use to transform this data into a format suitable for machine learning algorithms?\n",
    "Explain why you made this choice."
   ]
  },
  {
   "cell_type": "markdown",
   "id": "fac12f8d-8154-4e77-ba8e-1196892fae9e",
   "metadata": {},
   "source": [
    "* To Determine the best encoding technique for a categorical features with 5 unique values,it's essential to consider both the nature of data and the type of machine learning algorithum we plan to use.\n",
    "\n",
    "# One-Hot Encoding :\n",
    "\n",
    "* one-hot encoding creates a new binary column for each unique value in the categorical features.For a features with 5 unique values,this results in 5 new columns,each represent one of the categories.\n",
    "\n",
    "# Label Encoding :\n",
    "\n",
    "* Label Encoding assign a unique integer to each unique value. For a feature with 5 unique values,the encoding might look like.\n",
    "\n",
    "* Value A --> 0\n",
    "* Value B --> 1\n",
    "* Value C --> 2\n",
    "* Value D --> 3\n",
    "* Value E --> 4\n",
    "\n",
    "# Recommended Encoding Technique :\n",
    "\n",
    "* One-hot Encoding is generally the preferred choice if we are dealing with categorical features that do not have a inherent order,especially if we are using machine learning algorithums that are sensitive to the numerical relationship between features,such as linear model or neural networks.\n",
    "\n",
    "# why One-Hot Encoding :\n",
    "\n",
    "* No Implicit Ordering : Since the categorical features has 5 unique values and no inherent order,one hot encoding ensures that the model does not assume any ordinal relationship .\n",
    "\n",
    "* Compatibility : It works well with a wide range of machine learning algorithums,particularly those require numerical input and do not handle ordinal relationship well .\n",
    "\n",
    "# When to Use Label Encoding :\n",
    "\n",
    "* If the catrgorical feature represent a meaningful ordinal relationship(eg:-Low,Medium,High) Label encoding might be more appropriate .\n",
    "\n",
    "* For Tree-Based Models(eg:-decision trees,random forests)that can handle numerical values effectively without assuming any ordinal relationship,label encoding can be suitable and more efficient"
   ]
  },
  {
   "cell_type": "markdown",
   "id": "01a4cfdf-124c-44ce-a1d5-6d61fb2bc163",
   "metadata": {},
   "source": [
    "Q5. In a machine learning project, you have a dataset with 1000 rows and 5 columns. Two of the columns\n",
    "are categorical, and the remaining three columns are numerical. If you were to use nominal encoding to\n",
    "transform the categorical data, how many new columns would be created? Show your calculations."
   ]
  },
  {
   "cell_type": "markdown",
   "id": "7c3ee65c-5dd0-44ec-829f-58290440e8e3",
   "metadata": {},
   "source": [
    "* To Determine how many new columns would be created using nominal encoding(Label Encoding) for the categorical columns, we need to understand the nature of label encoding and how it affect the dataset.\n",
    "\n",
    "# Label Encoding Overview :\n",
    "\n",
    "* Label Encoding(Nominal Encoding) assigns a unique integer to each category within a categorical column .\n",
    "\n",
    "* Unlike one-Hot Encoding , label encoding does not create new columns for each category.Intead , it replaces each category with a single integer value within the same column .\n",
    "\n",
    "# GIVEN :\n",
    "\n",
    "* Dataset Size : 1000 rows and 5 columns\n",
    "* Categorical Columns : 2 columns\n",
    "* Numerical Columns : 3 columns\n",
    "\n",
    "# Transformation Using Label Encoding :\n",
    "\n",
    "* For each categorical column,label encoding will replace the existing column with integer values representing the categories.\n",
    "\n",
    "* No new columns are created by label encoding.Instead , the categorical column is transformned in place .\n",
    "\n",
    "# Calculations :\n",
    "\n",
    "* Since label encoding does not add new columns, the number of new columns created by applying label encoding to the two ctaegorical column is :\n",
    "\n",
    "* Number of new Columns = 0\n",
    "\n",
    "* When using label encoding on the two categorical columns in your dataset, no additional columns are created. The two categorical columns will be transformed from containing categorical values to containing integer values, but the total number of columns in the dataset will remain the same: 5 columns."
   ]
  },
  {
   "cell_type": "markdown",
   "id": "c5ae0398-7813-4c39-94f5-efe7172da08b",
   "metadata": {},
   "source": [
    "Q6. You are working with a dataset containing information about different types of animals, including their\n",
    "species, habitat, and diet. Which encoding technique would you use to transform the categorical data into\n",
    "a format suitable for machine learning algorithms? Justify your answer.\n",
    "\n"
   ]
  },
  {
   "cell_type": "markdown",
   "id": "1cf3d217-77f8-4547-b293-8dc1348aacdb",
   "metadata": {},
   "source": [
    "# ONE HOT ENCODING \n",
    "\n",
    "* Description : This technique creates a binary column for each category in a categorical feature.For instance,if we have a \"Species\" feature with value \"Lion\",\"Tiger\",\"Bear\",one-hot encoding will create three new column,each representing one of these species with 0 or 1 indicating the presence of that category .\n",
    "\n",
    "* Use Case : One-Hot encoding is most useful when the categorical variable is nominal(categories have no intrinsic order) and we want to ensure that the machine learning model does not infer any ordinal relationship between categories .\n",
    "\n",
    "* Justification : It avoids introducing any ordinal relationship and is straightforward to implement . However it can to a high-Dimensional features space if the categorical variables has many unique values,potentially causing the \"Curse of Dimensionality\""
   ]
  },
  {
   "cell_type": "markdown",
   "id": "ea5c2874-0b9c-4f62-bfd0-b231bdda2a4c",
   "metadata": {},
   "source": [
    "Q7.You are working on a project that involves predicting customer churn for a telecommunications\n",
    "company. You have a dataset with 5 features, including the customer's gender, age, contract type,\n",
    "monthly charges, and tenure. Which encoding technique(s) would you use to transform the categorical\n",
    "data into numerical data? Provide a step-by-step explanation of how you would implement the encoding."
   ]
  },
  {
   "cell_type": "markdown",
   "id": "327370d1-c4c0-4188-b9e2-b240802e2355",
   "metadata": {},
   "source": [
    "# STEP-BY-STEP ENCODING PROCESS\n",
    "\n",
    "# Indentify Categorical Features\n",
    "  * Gender : Categorical(Nominal)\n",
    "  * Contract Type : Categorical(Nominal)\n",
    "\n",
    "* Note :- the Features \"Age\",\"Monthly Charges\" and \"Tenure\" are numerical and do not need Encoding .\n",
    "\n",
    "# Choose Encoding Techniques ^_^\n",
    "\n",
    "* Gender :- Since gender is a nominal categorical features with only two categories(Eg:- Male & Female),we can use Label Encoding or One-Hot Encoding.\n",
    "\n",
    "* Contract Type : This Feature likely has more than two categories(Eg:- \"Month-to-Month\" , \"One Year\" , \"Two-year\"),so One-Hot Encoding is appropriate.\n",
    "\n",
    "# Detailed Encoding Implementation\n",
    "\n",
    "* Label Encoding for Gender\n",
    "* Label encoding assigns an integer to each category . For the gender feature,we can use :\n",
    "\n",
    "* Male --> 0\n",
    "* Female --> 0\n",
    "\n",
    "* Let's Implement this"
   ]
  },
  {
   "cell_type": "code",
   "execution_count": 1,
   "id": "24a20b4b-b5c6-4fe3-adc1-19a38d057ae4",
   "metadata": {},
   "outputs": [
    {
     "name": "stdout",
     "output_type": "stream",
     "text": [
      "   Gender\n",
      "0       1\n",
      "1       0\n",
      "2       0\n",
      "3       1\n"
     ]
    }
   ],
   "source": [
    "import pandas as pd\n",
    "from sklearn.preprocessing import LabelEncoder\n",
    "\n",
    "# Sample Data \n",
    "\n",
    "data = pd.DataFrame({'Gender':['Male','Female','Female','Male']})\n",
    "\n",
    "# Initialize the LabelEncoder\n",
    "\n",
    "label_encoder = LabelEncoder()\n",
    "\n",
    "# Apply Label Encoding\n",
    "data['Gender'] = label_encoder.fit_transform(data['Gender'])\n",
    "\n",
    "print(data)"
   ]
  },
  {
   "cell_type": "markdown",
   "id": "3e0f2ec8-b76d-479e-a7d7-71cf1da35285",
   "metadata": {},
   "source": [
    "# One-Hot Encoding for contract type\n",
    "\n",
    "* One-Hot Encoding creates binary columns for each category in the feature.For the contract type features,we will get columns such as \"Contract_Month-to-Month\",\"Contract_One Year\",and \"Contract_Two Year\"\n",
    "\n",
    "* Implementation in Python"
   ]
  },
  {
   "cell_type": "code",
   "execution_count": 3,
   "id": "7bbba242-1150-429b-b1f1-186f4b84aef0",
   "metadata": {},
   "outputs": [
    {
     "name": "stdout",
     "output_type": "stream",
     "text": [
      "   Contract_Month-to-Month  Contract_One Year  Contract_Two Year\n",
      "0                        1                  0                  0\n",
      "1                        0                  1                  0\n",
      "2                        0                  0                  1\n",
      "3                        1                  0                  0\n"
     ]
    }
   ],
   "source": [
    "import pandas as pd\n",
    "\n",
    "# Sample Data \n",
    "data = pd.DataFrame({'Contract Type':['Month-to-Month','One Year','Two Year','Month-to-Month']})\n",
    "\n",
    "# Apply one-hot Encoding\n",
    "data_encoded = pd.get_dummies(data,columns=['Contract Type'],prefix='Contract')\n",
    "\n",
    "print(data_encoded)"
   ]
  },
  {
   "cell_type": "markdown",
   "id": "bd62479c-986e-4d0a-8e2e-ce5715f09afe",
   "metadata": {},
   "source": [
    "# Combine Encoded Feature with Numerical Features\n",
    "\n",
    "* After encoding , we wil combine these encoded features with the numerical features(Age,Monthly Charges,Tenure) for use in my machine learning model .\n",
    "\n",
    "* Lets Do Impletation"
   ]
  },
  {
   "cell_type": "code",
   "execution_count": 4,
   "id": "04d76208-ea24-4b5b-8929-e2aab5b55c59",
   "metadata": {},
   "outputs": [
    {
     "name": "stdout",
     "output_type": "stream",
     "text": [
      "   Age  Monthly Charges  Tenure  Contract_Month-to-Month  Contract_One Year  \\\n",
      "0   25             70.5      12                        1                  0   \n",
      "1   34             80.0      24                        0                  1   \n",
      "2   45             90.0      36                        0                  0   \n",
      "3   29             75.5      18                        1                  0   \n",
      "\n",
      "   Contract_Two Year  \n",
      "0                  0  \n",
      "1                  0  \n",
      "2                  1  \n",
      "3                  0  \n"
     ]
    }
   ],
   "source": [
    "# Sample Data \n",
    "\n",
    "numerical_data = pd.DataFrame({\n",
    "   'Age':[25,34,45,29],\n",
    "   'Monthly Charges' : [70.5,80.0,90.0,75.5],\n",
    "   'Tenure':[12,24,36,18]\n",
    "})\n",
    "\n",
    "# Concatenate encoded and numerical data\n",
    "final_data = pd.concat([numerical_data,data_encoded],axis=1)\n",
    "\n",
    "print(final_data)"
   ]
  }
 ],
 "metadata": {
  "kernelspec": {
   "display_name": "Python 3 (ipykernel)",
   "language": "python",
   "name": "python3"
  },
  "language_info": {
   "codemirror_mode": {
    "name": "ipython",
    "version": 3
   },
   "file_extension": ".py",
   "mimetype": "text/x-python",
   "name": "python",
   "nbconvert_exporter": "python",
   "pygments_lexer": "ipython3",
   "version": "3.10.8"
  }
 },
 "nbformat": 4,
 "nbformat_minor": 5
}
